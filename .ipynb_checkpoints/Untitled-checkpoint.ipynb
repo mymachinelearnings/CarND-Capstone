{
 "cells": [
  {
   "cell_type": "markdown",
   "metadata": {},
   "source": [
    "## Term 3 Project 3 : System Integration\n",
    "\n",
    "#### Project Writeup\n",
    "\n",
    "---\n",
    "This is the 3rd and final project of Term 3 and 13th overall as part Udacity's [Self Driving Car Engineer Nanodegree](writeup/images/CarNDSyllabus.pdf)\n",
    "\n",
    "This project involves End-End system integration for Autonomous driving that involves Perception, Planning & Control. The project involves implementing ROS(Robot Operating System) nodes to implement core functionality of the autonomous vehicle system, including traffic light detection, control, and waypoint following. The code will be first tested in Udacity's Simulator, and once it passes through this stage, the code will be fed to Udacity's real Self driving Car a.k.a. *Carla*\n",
    "\n",
    "---\n",
    "\n",
    "---\n",
    "### The Team\n",
    "This is the project where all the learning over past 8 months of the program are put together. Due to the complexity and the range of work involved, Udacity recommends to work on this project as a team. \n",
    "\n",
    "We formed a group of 4 and named our team '**Detroit Muscles**' as all of us belong to the Motor City Detroit. We are a team of 4 who worked on each of the individual components seperately, and finally worked together to integrate all of them\n",
    "\n",
    "Our Team (in alphabetical Order)\n",
    "\n",
    "|     Name                | Role in the project           |     Github                                |\n",
    "| ----------------------- | ----------------------------- | ----------------------------------------- |\n",
    "| Nathan Nick Adams       | Waypoint Loading & Generation | ![Github](https://github.com/xxx)      |\n",
    "| Omkar Karve (Team Lead) | Traffic Light Classification  | ![Github](https://github.com/omitheaussie)      |\n",
    "| Ravi Kiran Savirigana   | Controls                      | ![Github](https://github.com/mymachinelearnings)|\n",
    "| Rui Li                  | Waypoint Generation & Updates | ![Github](https://github.com/xxx)          |\n",
    "\n",
    "\n",
    "\n",
    "### Autonomous Vehicle Architecture\n",
    "At a high level, the autonomous vehicle a.k.a. Self Driving Car's architecture can be split as shown below\n",
    "\n",
    "![Autonomous Vehicle Architecture](writeup/images/AutonomousVehicleArch.png)\n",
    "\n",
    "The components of the car can be mainly divided into 4 components\n",
    "\n",
    "##### Sensors\n",
    "    TODO\n",
    "\n",
    "##### Perception\n",
    "    TODO\n",
    "\n",
    "##### Plannning\n",
    "    TODO\n",
    "\n",
    "##### Control\n",
    "    TODO\n",
    "\n",
    "#### Project Architecture\n",
    "\n",
    "Udacity's real Self Driving car called Carla follows the same architecture as mentioned above, and as part of this project, we implemented the Perception, Planning & Control modules. Carla uses ROS as its framework to implement and integrate all the nodes of the autonomous vehicle system. \n",
    "\n",
    "The following diagram represents the system architecture showing the ROS nodes and topics used in the project\n",
    "\n",
    "![System Architecture](writeup/images/ArchOverview.png)\n",
    "\n"
   ]
  },
  {
   "cell_type": "code",
   "execution_count": null,
   "metadata": {},
   "outputs": [],
   "source": []
  },
  {
   "cell_type": "code",
   "execution_count": null,
   "metadata": {},
   "outputs": [],
   "source": []
  },
  {
   "cell_type": "code",
   "execution_count": null,
   "metadata": {},
   "outputs": [],
   "source": []
  }
 ],
 "metadata": {
  "kernelspec": {
   "display_name": "Python 3",
   "language": "python",
   "name": "python3"
  },
  "language_info": {
   "codemirror_mode": {
    "name": "ipython",
    "version": 3
   },
   "file_extension": ".py",
   "mimetype": "text/x-python",
   "name": "python",
   "nbconvert_exporter": "python",
   "pygments_lexer": "ipython3",
   "version": "3.6.6"
  }
 },
 "nbformat": 4,
 "nbformat_minor": 2
}
